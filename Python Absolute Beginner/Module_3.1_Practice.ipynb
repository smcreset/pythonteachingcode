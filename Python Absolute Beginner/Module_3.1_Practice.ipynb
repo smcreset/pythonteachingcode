{
 "cells": [
  {
   "cell_type": "markdown",
   "metadata": {},
   "source": [
    "# Module 3 Practice 1\n",
    "## Conditionals \n",
    "<font size=\"5\" color=\"#00A0B2\"  face=\"verdana\"> <B>Student will be able to</B></font>  \n",
    "- **control code flow with `if`... `else` conditional logic**  \n",
    "  - using Boolean string methods (`.isupper(), .isalpha(), .startswith()...`)  \n",
    "  - using comparision (`>, <, >=, <=, ==, !=`)  \n",
    "  - using Strings in comparisons  \n",
    "\n",
    "## `if else`\n"
   ]
  },
  {
   "cell_type": "code",
   "execution_count": 3,
   "metadata": {},
   "outputs": [
    {
     "name": "stdout",
     "output_type": "stream",
     "text": [
      "How old are you? 23\n",
      "In ten years, you'll be 33\n"
     ]
    }
   ],
   "source": [
    "# [ ] input avariable: age as digit and cast to int\n",
    "# if age greater than or equal to 12 then print message on age in 10 years \n",
    "# or else print message \"It is good to be\" age\n",
    "\n",
    "user_age = int(input(\"How old are you? \"))\n",
    "if user_age >= 12:\n",
    "    print(\"In ten years, you'll be\", user_age+10)\n",
    "else:\n",
    "    print(\"It is good to be\", user_age)\n",
    "    \n",
    "\n"
   ]
  },
  {
   "cell_type": "code",
   "execution_count": 9,
   "metadata": {},
   "outputs": [
    {
     "name": "stdout",
     "output_type": "stream",
     "text": [
      "Give me a number: asdf\n",
      "Only int is accepted.\n",
      "The number you gave is greater than 100 is True\n"
     ]
    }
   ],
   "source": [
    "# [ ] input a number \n",
    "# if number IS a digit string then cast to int\n",
    "# print number \"greater than 100 is\" True/False\n",
    "# if number is NOT a digit string then message the user that \"only int is accepted\"\n",
    "\n",
    "rando = input(\"Give me a number: \")\n",
    "\n",
    "if rando.isdigit():\n",
    "    rando_int = int(rando)\n",
    "else:\n",
    "    print(\"Only int is accepted.\")\n",
    "    \n",
    "print(\"The number you gave is greater than 100 is\", rando_int>100)\n"
   ]
  },
  {
   "cell_type": "markdown",
   "metadata": {},
   "source": [
    "### Guessing a letter A-Z  \n",
    "**check_guess()** takes 2 string arguments: **letter and guess** (both expect single alphabetical character)   \n",
    "    - if guess is not an alpha character print invalid and return False\n",
    "    - test and print if guess is \"high\" or \"low\" and return False\n",
    "    - test and print if guess is \"correct\" and return True"
   ]
  },
  {
   "cell_type": "code",
   "execution_count": 12,
   "metadata": {},
   "outputs": [
    {
     "name": "stdout",
     "output_type": "stream",
     "text": [
      "Give me a letter: 8\n"
     ]
    },
    {
     "data": {
      "text/plain": [
       "'False'"
      ]
     },
     "execution_count": 12,
     "metadata": {},
     "output_type": "execute_result"
    }
   ],
   "source": [
    "# [ ] create check_guess()\n",
    "# call with test\n",
    "\n",
    "def check_guess():\n",
    "    correct_answer = input(\"Give me a letter: \")\n",
    "    if correct_answer.isalpha() is False:\n",
    "        return \"False\"\n",
    "    user_answer = input(\"Give me one letter: \")\n",
    "    if user_answer.isalpha() is False:\n",
    "        return \"False\"\n",
    "    elif len(user_answer)>1:\n",
    "        print(\"Sorry.  I just asked for one letter.\")\n",
    "    elif user_answer>correct_answer:\n",
    "        print(\"Sorry.  That's too high.\")\n",
    "    elif user_answer<correct_answer:\n",
    "        print(\"Sorry.  That's too low.\")\n",
    "    else:\n",
    "        print(\"Well done!  Good Guess!\")\n",
    "\n",
    "check_guess()\n"
   ]
  },
  {
   "cell_type": "code",
   "execution_count": null,
   "metadata": {
    "collapsed": true
   },
   "outputs": [],
   "source": [
    "# [ ] call check_guess with user input\n",
    "\n",
    "\n",
    "def check_guess():\n",
    "    correct_answer = input(\"Give me a letter: \")\n",
    "    if correct_answer.isalpha() is False:\n",
    "        return \"False\"\n",
    "    user_answer = input(\"Give me one letter: \")\n",
    "    if user_answer.isalpha() is False:\n",
    "        return \"False\"\n",
    "    elif len(user_answer)>1:\n",
    "        print(\"Sorry.  I just asked for one letter.\")\n",
    "    elif user_answer>correct_answer:\n",
    "        print(\"Sorry.  That's too high.\")\n",
    "    elif user_answer<correct_answer:\n",
    "        print(\"Sorry.  That's too low.\")\n",
    "    else:\n",
    "        print(\"Well done!  Good Guess!\")\n",
    "\n",
    "check_guess()\n",
    "\n"
   ]
  },
  {
   "cell_type": "markdown",
   "metadata": {},
   "source": [
    "### Letter Guess\n",
    "**create letter_guess() function that gives user 3 guesses**\n",
    "- takes a letter character argument for the answer letter\n",
    "- gets user input for letter guess  \n",
    "- calls check_guess() with answer and guess\n",
    "- End letter_guess if \n",
    "    - check_guess() equals True, return True  \n",
    "    - or after 3 failed attempts, return False"
   ]
  },
  {
   "cell_type": "code",
   "execution_count": 28,
   "metadata": {},
   "outputs": [
    {
     "name": "stdout",
     "output_type": "stream",
     "text": [
      "Give me a letter: a\n",
      "Try again: a\n",
      "Try one last time: a\n",
      "I'm sorry.  You're out of chances.\n"
     ]
    }
   ],
   "source": [
    "# [ ] create letter_guess() function, call the function to test\n",
    "\n",
    "def letter_guess():\n",
    "    right_answer = \"c\"\n",
    "    usr_answer = input(\"Give me a letter: \")\n",
    "    if usr_answer != right_answer:\n",
    "        usr_answer = input(\"Try again: \")\n",
    "        if usr_answer != right_answer:\n",
    "            usr_answer = input(\"Try one last time: \")\n",
    "            if usr_answer != right_answer:\n",
    "                print(\"I'm sorry.  You're out of guesses.\")\n",
    "            else:\n",
    "                print(\"Well done!\")\n",
    "        else:\n",
    "            print(\"Well done!\")\n",
    "    else:\n",
    "        print(\"Well done!\")\n",
    "\n",
    "letter_guess()"
   ]
  },
  {
   "cell_type": "markdown",
   "metadata": {},
   "source": [
    "### Pet Conversation\n",
    "**ask the user for a sentence about a pet and then reply**  \n",
    "- get user input in variable: about_pet\n",
    "- using a series of **if** statements respond with appropriate conversation\n",
    "  - check if \"dog\" is in the string about_pet (sample reply \"Ah, a dog\")\n",
    "  - check if \"cat\" is in the string about_pet\n",
    "  - check if 1 or more animal is in string about_pet\n",
    "- no need for **else**'s\n",
    "- finish with thanking for the story"
   ]
  },
  {
   "cell_type": "code",
   "execution_count": 30,
   "metadata": {},
   "outputs": [
    {
     "name": "stdout",
     "output_type": "stream",
     "text": [
      "Tell me about your pet: Goat\n",
      "OK.  I did not expect that answer.\n",
      "Thank you for telling me about your pet.\n"
     ]
    }
   ],
   "source": [
    "# [ ] complete pet conversation\n",
    "\n",
    "about_pet = input(\"Tell me about your pet: \")\n",
    "\n",
    "if \"dog\" in about_pet.lower():\n",
    "    print(\"Oh, my gosh, I love dogs!\")\n",
    "elif \"cat\" in about_pet.lower():\n",
    "    print(\"Cats are the worst, and so are cat people.\")\n",
    "elif \"goat\" in about_pet.lower():\n",
    "    print(\"OK.  I did not expect that answer.\")f\n",
    "\n",
    "print(\"Thank you for telling me about your pet.\")"
   ]
  },
  {
   "cell_type": "markdown",
   "metadata": {},
   "source": [
    "# Module 3 Practice 2\n",
    "## conditionals, type, and mathematics extended   \n",
    "&nbsp;\n",
    "<font size=\"5\" color=\"#00A0B2\"  face=\"verdana\"> <B>Student will be able to</B></font>  \n",
    "- code more than two choices using **`elif`** \n",
    "- gather numeric input using type casting  \n",
    "- perform subtraction, multiplication and division operations in code  &nbsp;  \n"
   ]
  },
  {
   "cell_type": "markdown",
   "metadata": {},
   "source": [
    "# &nbsp;  \n",
    "<font size=\"6\" color=\"#B24C00\"  face=\"verdana\"> <B>Tasks</B></font>"
   ]
  },
  {
   "cell_type": "markdown",
   "metadata": {},
   "source": [
    "### Rainbow colors\n",
    "ask for input of a favorite rainbow color first letter: ROYGBIV  \n",
    "\n",
    "Using `if`, `elif`, and `else`:  \n",
    "- print the color matching the letter  \n",
    "    - R = Red  \n",
    "    - O = Orange  \n",
    "    - Y = Yellow  \n",
    "    - G = Green\n",
    "    - B = Blue\n",
    "    - I = Indigo\n",
    "    - V = Violet\n",
    "    - else print \"no match\"\n"
   ]
  },
  {
   "cell_type": "code",
   "execution_count": 31,
   "metadata": {},
   "outputs": [],
   "source": [
    "# [ ] complete rainbow colors\n",
    "R = \"Red\"\n",
    "O = \"Orange\"\n",
    "Y = \"Yellow\"\n",
    "G = \"Green\"\n",
    "B = \"Blue\"\n",
    "I = \"Indigo\"\n",
    "V = \"Violet\"\n"
   ]
  },
  {
   "cell_type": "code",
   "execution_count": 43,
   "metadata": {},
   "outputs": [
    {
     "name": "stdout",
     "output_type": "stream",
     "text": [
      "Tell me the first letter of your favorite rainbow color: R\n",
      "Red\n"
     ]
    }
   ],
   "source": [
    "# [ ] make the code above into a function rainbow_color() that has a string parameter, \n",
    "# get input and call the function and return the matching color as a string or \"no match\" message.\n",
    "# Call the function and print the return string.\n",
    "\n",
    "def rainbow_color():\n",
    "    favorite_color = input(\"Tell me the first letter of your favorite rainbow color: \")\n",
    "    if len(favorite_color)>1:\n",
    "        print(\"Start over.  That's too many letters.\")\n",
    "    elif favorite_color.lower().startswith(\"r\"):\n",
    "        print(\"Red\")\n",
    "    elif favorite_color.lower().startswith(\"o\"):\n",
    "        print(\"Orange\")\n",
    "    elif favorite_color.lower().startswith(\"y\"):\n",
    "        print(\"Yellow\")\n",
    "    elif favorite_color.lower().startswith(\"b\"):\n",
    "        print(\"Blue\")\n",
    "    elif favorite_color.lower().startswith(\"g\"):\n",
    "        print(\"Green\")\n",
    "    elif favorite_color.lower().startswith(\"i\"):\n",
    "        print(\"Indigo\")\n",
    "    elif favorite_color.lower().startswith(\"v\"):\n",
    "        print(\"Violet\")\n",
    "    else:\n",
    "        print(\"No match\")\n",
    "        \n",
    "rainbow_color()"
   ]
  },
  {
   "cell_type": "markdown",
   "metadata": {},
   "source": [
    "# &nbsp;  \n",
    "**Create function age_20() that adds or subtracts 20 from your age for a return value based on current age** (use `if`) \n",
    "- call the funtion with user input and then use the return value in a sentence  \n",
    "example `age_20(25)` returns **5**: \n",
    "> \"5 years old, 20 years difference from now\""
   ]
  },
  {
   "cell_type": "code",
   "execution_count": 49,
   "metadata": {},
   "outputs": [
    {
     "name": "stdout",
     "output_type": "stream",
     "text": [
      "How old are you?: 20\n",
      "Because you're 20, you'll be 40 in 20 years.\n"
     ]
    }
   ],
   "source": [
    "# [ ] complete age_20()\n",
    "\n",
    "def age_20():\n",
    "    u_age = input(\"How old are you?: \")\n",
    "    plus_20 = int(u_age) + 20\n",
    "    print(\"Because you're\", u_age+\", you'll be\", plus_20, \"in 20 years.\")\n",
    "    \n",
    "age_20()"
   ]
  },
  {
   "cell_type": "markdown",
   "metadata": {},
   "source": [
    "**create a function rainbow_or_age that takes a string argument**\n",
    "- if argument is a digit return the value of calling age_20() with the str value cast as **`int`** \n",
    "- if argument is an alphabetical character return the value of calling rainbow_color() with the str\n",
    "- if neither return FALSE"
   ]
  },
  {
   "cell_type": "code",
   "execution_count": 1,
   "metadata": {},
   "outputs": [
    {
     "name": "stdout",
     "output_type": "stream",
     "text": [
      "Give me a letter or a number: 3\n",
      "Because you're 3, you'll be 23 in 20 years.\n"
     ]
    }
   ],
   "source": [
    "# [ ]  create rainbow_or_age()\n",
    "def age_20(msg):\n",
    "    u_age = msg\n",
    "    plus_20 = int(u_age) + 20\n",
    "    print(\"Because you're\", u_age+\", you'll be\", plus_20, \"in 20 years.\")\n",
    "    \n",
    "def rainbow_color(msg):\n",
    "    favorite_color = msg\n",
    "    if len(favorite_color)>1:\n",
    "        print(\"Start over.  That's too many letters.\")\n",
    "    elif favorite_color.lower().startswith(\"r\"):\n",
    "        print(\"Red\")\n",
    "    elif favorite_color.lower().startswith(\"o\"):\n",
    "        print(\"Orange\")\n",
    "    elif favorite_color.lower().startswith(\"y\"):\n",
    "        print(\"Yellow\")\n",
    "    elif favorite_color.lower().startswith(\"b\"):\n",
    "        print(\"Blue\")\n",
    "    elif favorite_color.lower().startswith(\"g\"):\n",
    "        print(\"Green\")\n",
    "    elif favorite_color.lower().startswith(\"i\"):\n",
    "        print(\"Indigo\")\n",
    "    elif favorite_color.lower().startswith(\"v\"):\n",
    "        print(\"Violet\")\n",
    "    else:\n",
    "        return False\n",
    "\n",
    "def rainbow_or_age():\n",
    "    u_input = input(\"Give me a letter or a number: \")\n",
    "    if u_input.isnumeric():\n",
    "        age_20(u_input)\n",
    "    elif u_input.isalpha():\n",
    "        rainbow_color(u_input)\n",
    "    else:\n",
    "        return False\n",
    "        \n",
    "rainbow_or_age()"
   ]
  },
  {
   "cell_type": "code",
   "execution_count": 12,
   "metadata": {},
   "outputs": [
    {
     "name": "stdout",
     "output_type": "stream",
     "text": [
      "Give me a letter or a number: 3\n",
      "Give me another number: 44\n",
      "132\n"
     ]
    }
   ],
   "source": [
    "# [ ]  add 2 numbers from input using a cast to integer and display the answer \n",
    "\n",
    "def age_20(msg):\n",
    "    u_age = msg\n",
    "    plus_20 = int(u_age) + 20\n",
    "    print(\"Because you're\", u_age+\", you'll be\", plus_20, \"in 20 years.\")\n",
    "    \n",
    "def rainbow_color(msg):\n",
    "    favorite_color = msg\n",
    "    if len(favorite_color)>1:\n",
    "        print(\"Start over.  That's too many letters.\")\n",
    "    elif favorite_color.lower().startswith(\"r\"):\n",
    "        print(\"Red\")\n",
    "    elif favorite_color.lower().startswith(\"o\"):\n",
    "        print(\"Orange\")\n",
    "    elif favorite_color.lower().startswith(\"y\"):\n",
    "        print(\"Yellow\")\n",
    "    elif favorite_color.lower().startswith(\"b\"):\n",
    "        print(\"Blue\")\n",
    "    elif favorite_color.lower().startswith(\"g\"):\n",
    "        print(\"Green\")\n",
    "    elif favorite_color.lower().startswith(\"i\"):\n",
    "        print(\"Indigo\")\n",
    "    elif favorite_color.lower().startswith(\"v\"):\n",
    "        print(\"Violet\")\n",
    "    else:\n",
    "        print(\"No color in the rainbow starts with that.\")\n",
    "\n",
    "def rainbow_or_age():\n",
    "    u_input = input(\"Give me a letter or a number: \")\n",
    "    if u_input.isnumeric():\n",
    "        u_input2 = input(\"Give me another number: \")\n",
    "        print(int(u_input) + int(u_input2))   \n",
    "    elif u_input.isalpha():\n",
    "        rainbow_color(u_input)\n",
    "    else:\n",
    "        return False\n",
    "        \n",
    "rainbow_or_age()"
   ]
  },
  {
   "cell_type": "code",
   "execution_count": 13,
   "metadata": {},
   "outputs": [
    {
     "name": "stdout",
     "output_type": "stream",
     "text": [
      "Give me a letter or a number: 3\n",
      "Give me another number: 4\n",
      "The answer is 12\n"
     ]
    }
   ],
   "source": [
    "# [ ] Multiply 2 numbers from input using cast and save the answer as part of a string \"the answer is...\"\n",
    "# display the string using print\n",
    "\n",
    "def age_20(msg):\n",
    "    u_age = msg\n",
    "    plus_20 = int(u_age) + 20\n",
    "    print(\"Because you're\", u_age+\", you'll be\", plus_20, \"in 20 years.\")\n",
    "    \n",
    "def rainbow_color(msg):\n",
    "    favorite_color = msg\n",
    "    if len(favorite_color)>1:\n",
    "        print(\"Start over.  That's too many letters.\")\n",
    "    elif favorite_color.lower().startswith(\"r\"):\n",
    "        print(\"Red\")\n",
    "    elif favorite_color.lower().startswith(\"o\"):\n",
    "        print(\"Orange\")\n",
    "    elif favorite_color.lower().startswith(\"y\"):\n",
    "        print(\"Yellow\")\n",
    "    elif favorite_color.lower().startswith(\"b\"):\n",
    "        print(\"Blue\")\n",
    "    elif favorite_color.lower().startswith(\"g\"):\n",
    "        print(\"Green\")\n",
    "    elif favorite_color.lower().startswith(\"i\"):\n",
    "        print(\"Indigo\")\n",
    "    elif favorite_color.lower().startswith(\"v\"):\n",
    "        print(\"Violet\")\n",
    "    else:\n",
    "        print(\"No color in the rainbow starts with that.\")\n",
    "\n",
    "def rainbow_or_age():\n",
    "    u_input = input(\"Give me a letter or a number: \")\n",
    "    if u_input.isnumeric():\n",
    "        u_input2 = input(\"Give me another number: \")\n",
    "        u_product = int(u_input) * int(u_input2)\n",
    "        print(\"The answer is\", u_product)\n",
    "    elif u_input.isalpha():\n",
    "        rainbow_color(u_input)\n",
    "    else:\n",
    "        return False\n",
    "        \n",
    "rainbow_or_age()"
   ]
  },
  {
   "cell_type": "code",
   "execution_count": 2,
   "metadata": {},
   "outputs": [
    {
     "name": "stdout",
     "output_type": "stream",
     "text": [
      "Give me a letter or a number: 4\n",
      "Give me another number: 6\n",
      "The average is 5\n"
     ]
    }
   ],
   "source": [
    "# [ ] get input of 2 numbers and display the average: (num1 + num2) divided by 2\n",
    "\n",
    "def age_20(msg):\n",
    "    u_age = msg\n",
    "    plus_20 = int(u_age) + 20\n",
    "    print(\"Because you're\", u_age+\", you'll be\", plus_20, \"in 20 years.\")\n",
    "    \n",
    "def rainbow_color(msg):\n",
    "    favorite_color = msg\n",
    "    if len(favorite_color)>1:\n",
    "        print(\"Start over.  That's too many letters.\")\n",
    "    elif favorite_color.lower().startswith(\"r\"):\n",
    "        print(\"Red\")\n",
    "    elif favorite_color.lower().startswith(\"o\"):\n",
    "        print(\"Orange\")\n",
    "    elif favorite_color.lower().startswith(\"y\"):\n",
    "        print(\"Yellow\")\n",
    "    elif favorite_color.lower().startswith(\"b\"):\n",
    "        print(\"Blue\")\n",
    "    elif favorite_color.lower().startswith(\"g\"):\n",
    "        print(\"Green\")\n",
    "    elif favorite_color.lower().startswith(\"i\"):\n",
    "        print(\"Indigo\")\n",
    "    elif favorite_color.lower().startswith(\"v\"):\n",
    "        print(\"Violet\")\n",
    "    else:\n",
    "        print(\"No color in the rainbow starts with that.\")\n",
    "\n",
    "def rainbow_or_age():\n",
    "    u_input = input(\"Give me a letter or a number: \")\n",
    "    if u_input.isnumeric():\n",
    "        u_input2 = input(\"Give me another number: \")\n",
    "        u_avg = int(int(u_input) + int(u_input2))/2\n",
    "        print(\"The average is\", int(u_avg))\n",
    "    elif u_input.isalpha():\n",
    "        rainbow_color(u_input)\n",
    "    else:\n",
    "        return False\n",
    "        \n",
    "rainbow_or_age()"
   ]
  },
  {
   "cell_type": "code",
   "execution_count": 10,
   "metadata": {},
   "outputs": [
    {
     "name": "stdout",
     "output_type": "stream",
     "text": [
      "Give me a letter or a number: 2\n",
      "Give me another number: 9\n",
      "The answer is 7\n"
     ]
    }
   ],
   "source": [
    "# [ ] get input of 2 numbers and subtract the largest from the smallest (use an if statement to see which is larger)\n",
    "# show the answer\n",
    "\n",
    "def age_20(msg):\n",
    "    u_age = msg\n",
    "    plus_20 = int(u_age) + 20\n",
    "    print(\"Because you're\", u_age+\", you'll be\", plus_20, \"in 20 years.\")\n",
    "    \n",
    "def rainbow_color(msg):\n",
    "    favorite_color = msg\n",
    "    if len(favorite_color)>1:\n",
    "        print(\"Start over.  That's too many letters.\")\n",
    "    elif favorite_color.lower().startswith(\"r\"):\n",
    "        print(\"Red\")\n",
    "    elif favorite_color.lower().startswith(\"o\"):\n",
    "        print(\"Orange\")\n",
    "    elif favorite_color.lower().startswith(\"y\"):\n",
    "        print(\"Yellow\")\n",
    "    elif favorite_color.lower().startswith(\"b\"):\n",
    "        print(\"Blue\")\n",
    "    elif favorite_color.lower().startswith(\"g\"):\n",
    "        print(\"Green\")\n",
    "    elif favorite_color.lower().startswith(\"i\"):\n",
    "        print(\"Indigo\")\n",
    "    elif favorite_color.lower().startswith(\"v\"):\n",
    "        print(\"Violet\")\n",
    "    else:\n",
    "        print(\"No color in the rainbow starts with that.\")\n",
    "\n",
    "def rainbow_or_age():\n",
    "    u_input = input(\"Give me a letter or a number: \")\n",
    "    if u_input.isnumeric():\n",
    "        u_input2 = input(\"Give me another number: \")\n",
    "        if u_input>u_input2: \n",
    "            u_output = int(u_input) - int(u_input2)\n",
    "            print(\"The answer is\", u_output)\n",
    "        elif u_input<u_input2:\n",
    "            u_output = int(u_input2) - int(u_input)\n",
    "            print(\"The answer is\", u_output)\n",
    "    elif u_input.isalpha():\n",
    "        rainbow_color(u_input)\n",
    "    else:\n",
    "        return False\n",
    "        \n",
    "rainbow_or_age()"
   ]
  },
  {
   "cell_type": "code",
   "execution_count": 15,
   "metadata": {},
   "outputs": [
    {
     "name": "stdout",
     "output_type": "stream",
     "text": [
      "Give me a letter or a number: 4\n",
      "Give me another number: 5\n",
      "The answer is 1\n"
     ]
    }
   ],
   "source": [
    "# [ ] Divide a larger number by a smaller number and print the integer part of the result\n",
    "# don't divide by zero! if a zero is input make the result zero\n",
    "# [ ] cast the answer to an integer to cut off the decimals and print the result\n",
    "\n",
    "def age_20(msg):\n",
    "    u_age = msg\n",
    "    plus_20 = int(u_age) + 20\n",
    "    print(\"Because you're\", u_age+\", you'll be\", plus_20, \"in 20 years.\")\n",
    "    \n",
    "def rainbow_color(msg):\n",
    "    favorite_color = msg\n",
    "    if len(favorite_color)>1:\n",
    "        print(\"Start over.  That's too many letters.\")\n",
    "    elif favorite_color.lower().startswith(\"r\"):\n",
    "        print(\"Red\")\n",
    "    elif favorite_color.lower().startswith(\"o\"):\n",
    "        print(\"Orange\")\n",
    "    elif favorite_color.lower().startswith(\"y\"):\n",
    "        print(\"Yellow\")\n",
    "    elif favorite_color.lower().startswith(\"b\"):\n",
    "        print(\"Blue\")\n",
    "    elif favorite_color.lower().startswith(\"g\"):\n",
    "        print(\"Green\")\n",
    "    elif favorite_color.lower().startswith(\"i\"):\n",
    "        print(\"Indigo\")\n",
    "    elif favorite_color.lower().startswith(\"v\"):\n",
    "        print(\"Violet\")\n",
    "    else:\n",
    "        print(\"No color in the rainbow starts with that.\")\n",
    "\n",
    "def rainbow_or_age():\n",
    "    u_input = input(\"Give me a letter or a number: \")\n",
    "    if u_input.isnumeric():\n",
    "        u_input2 = input(\"Give me another number: \")\n",
    "        if u_input>u_input2: \n",
    "            if u_input2 == 0:\n",
    "                print(0)\n",
    "            else:\n",
    "                u_output = int(u_input) / int(u_input2)\n",
    "                print(\"The answer is\", int(u_output))\n",
    "        elif u_input<u_input2:\n",
    "            if u_input == 0:\n",
    "                print(0)\n",
    "            else:\n",
    "                u_output = int(u_input2) / int(u_input)\n",
    "                print(\"The answer is\", int(u_output))\n",
    "    elif u_input.isalpha():\n",
    "        rainbow_color(u_input)\n",
    "    else:\n",
    "        return False\n",
    "        \n",
    "rainbow_or_age()"
   ]
  },
  {
   "cell_type": "markdown",
   "metadata": {
    "collapsed": true
   },
   "source": [
    "[Terms of use](http://go.microsoft.com/fwlink/?LinkID=206977) &nbsp; [Privacy & cookies](https://go.microsoft.com/fwlink/?LinkId=521839) &nbsp; © 2017 Microsoft"
   ]
  }
 ],
 "metadata": {
  "anaconda-cloud": {},
  "kernelspec": {
   "display_name": "Python 3",
   "language": "python",
   "name": "python3"
  },
  "language_info": {
   "codemirror_mode": {
    "name": "ipython",
    "version": 3
   },
   "file_extension": ".py",
   "mimetype": "text/x-python",
   "name": "python",
   "nbconvert_exporter": "python",
   "pygments_lexer": "ipython3",
   "version": "3.8.8"
  }
 },
 "nbformat": 4,
 "nbformat_minor": 1
}
