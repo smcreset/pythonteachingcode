{
 "cells": [
  {
   "cell_type": "markdown",
   "metadata": {},
   "source": [
    "# Module 4 Practice\n",
    "## Nested Conditionals\n",
    "<font size=\"5\" color=\"#00A0B2\"  face=\"verdana\"> <B>Student will be able to</B></font>\n",
    "- create nested conditional logic in code  \n",
    "- print format print using escape sequence (**\\**)"
   ]
  },
  {
   "cell_type": "markdown",
   "metadata": {},
   "source": [
    "# &nbsp;\n",
    "<font size=\"6\" color=\"#B24C00\"  face=\"verdana\"> <B>Tasks</B></font>  "
   ]
  },
  {
   "cell_type": "code",
   "execution_count": 1,
   "metadata": {},
   "outputs": [
    {
     "name": "stdout",
     "output_type": "stream",
     "text": [
      "The new line character is \"\\n\"\n"
     ]
    }
   ],
   "source": [
    "# [ ] print a string that outputs the following exactly: The new line character is \"\\n\"\n",
    "\n",
    "print(\"The new line character is \\\"\\\\n\\\"\")"
   ]
  },
  {
   "cell_type": "code",
   "execution_count": 2,
   "metadata": {},
   "outputs": [
    {
     "name": "stdout",
     "output_type": "stream",
     "text": [
      "\"That's how we escape!\"\n"
     ]
    }
   ],
   "source": [
    "# [ ] print output that is exactly (with quotes): \"That's how we escape!\"\n",
    "\n",
    "print(\"\\\"That's how we escape!\\\"\")"
   ]
  },
  {
   "cell_type": "code",
   "execution_count": 4,
   "metadata": {},
   "outputs": [
    {
     "name": "stdout",
     "output_type": "stream",
     "text": [
      "1\tone\n",
      "22\ttwo\n",
      "333\tthree\n"
     ]
    }
   ],
   "source": [
    "# [ ] with only 1 print statement and using No Space Characters, output the text commented below  \n",
    "\n",
    "# 1       one\n",
    "# 22      two\n",
    "# 333     three\n",
    "\n",
    "print(\"1\\tone\\n22\\ttwo\\n333\\tthree\")"
   ]
  },
  {
   "cell_type": "markdown",
   "metadata": {},
   "source": [
    "# &nbsp;\n",
    "## Program: quote_me() Function\n",
    "quote_me takes a string argument and returns a string that will display surrounded with **added double quotes** if printed  \n",
    "- check if passed string starts with a double quote (`\"\\\"\"`), then surround string with single quotations \n",
    "- if the passed string starts with single quote, or if doesn't start with a quotation mark, then surround with double quotations  \n",
    "\n",
    "Test the function code passing string input as the argument to quote_me() "
   ]
  },
  {
   "cell_type": "code",
   "execution_count": 13,
   "metadata": {},
   "outputs": [
    {
     "name": "stdout",
     "output_type": "stream",
     "text": [
      "Give me a quote. Now hit him with the puppy.\n",
      "\"Now hit him with the puppy.\"\n"
     ]
    }
   ],
   "source": [
    "# [ ] create and test quote_me()\n",
    "\n",
    "\n",
    "def quote_me():\n",
    "    u_quote = input(\"Give me a quote. \")\n",
    "    if u_quote.startswith(\"\\\"\"):\n",
    "        print(\"\\'\" + u_quote + \"\\'\")\n",
    "    elif u_quote.startswith(\"\\'\"):\n",
    "        print(\"\\\"\" + u_quote + \"\\\"\")\n",
    "    else:\n",
    "        print(\"\\\"\" + u_quote + \"\\\"\")\n",
    "              \n",
    "quote_me()"
   ]
  },
  {
   "cell_type": "markdown",
   "metadata": {},
   "source": [
    "# &nbsp;\n",
    "### Program: shirt order \n",
    "First get input for color and size  \n",
    "- White has sizes L, M \n",
    "- Blue has sizes M, S  \n",
    "\n",
    "print available or unavailable, then  \n",
    "print the order confirmation of color and size  \n",
    "\n",
    "*\n",
    "**hint**: set a variable \"available = False\" before nested if statements and  \n",
    "change to True if color and size are avaliable*"
   ]
  },
  {
   "cell_type": "code",
   "execution_count": 20,
   "metadata": {},
   "outputs": [
    {
     "name": "stdout",
     "output_type": "stream",
     "text": [
      "Do you want a White or Blue shirt? blue\n",
      "Alright.  A blue shirt.  What size? \n",
      "What size do you need?  Small, medium, or large? large\n",
      "I'm sorry, we dont' have that size available. \n",
      "Alright.  A blue shirt.  What size? \n",
      "What size do you need?  Small, medium, or large? small\n",
      "Perfect.  We have a small blue shirt available. \n"
     ]
    }
   ],
   "source": [
    "# [ ] create shirt order using nested if \n",
    "\n",
    "s_color = input(\"Do you want a White or Blue shirt? \")\n",
    "while True:\n",
    "    if s_color.lower().startswith(\"w\"):\n",
    "        print(\"Alright.  A white shirt.  What size? \")\n",
    "        s_size = input(\"What size do you need?  Small, medium, or large? \")\n",
    "        if s_size.lower().startswith(\"s\"):\n",
    "            print(\"I'm sorry, we dont' have that size available. \")\n",
    "        elif s_size.lower().startswith(\"m\"):\n",
    "            print(\"Perfect.  We have a medium white shirt available. \")\n",
    "            break\n",
    "        elif s_size.lower().startswith(\"l\"):\n",
    "            print(\"Perfect.  We have a large white shirt available. \")\n",
    "            break\n",
    "    elif s_color.lower().startswith(\"b\"):\n",
    "        print(\"Alright.  A blue shirt.  What size? \")\n",
    "        s_size = input(\"What size do you need?  Small, medium, or large? \")\n",
    "        if s_size.lower().startswith(\"s\"):\n",
    "            print(\"Perfect.  We have a small blue shirt available. \")\n",
    "            break\n",
    "        elif s_size.lower().startswith(\"m\"):\n",
    "            print(\"Perfect.  We have a medium blue shirt available. \")\n",
    "            break\n",
    "        elif s_size.lower().startswith(\"l\"):\n",
    "            print(\"I'm sorry, we dont' have that size available. \")\n",
    "    else:\n",
    "        print(\"I'm sorry. Try that again.\")"
   ]
  },
  {
   "cell_type": "markdown",
   "metadata": {},
   "source": [
    "# &nbsp;\n",
    "## Program: str_analysis() Function\n",
    "Create the str_analysis() function that takes a string argument.  In the body of the function:\n",
    "- Check `if` string is digits  \n",
    "  - if digits: convert to `int` and check `if` greater than 99  \n",
    "    - if greater than 99, print a message about a \"big number\"  \n",
    "    - if not greater than 99, print message about \"small number\"    \n",
    "  - if not digits: check if string isalpha\n",
    "    - if isalpha print message about being all alpha\n",
    "    - if not isalpha print a message about being neither all alpha nor all digit  \n",
    "    \n",
    "call the function with a string from user input "
   ]
  },
  {
   "cell_type": "code",
   "execution_count": 27,
   "metadata": {},
   "outputs": [
    {
     "name": "stdout",
     "output_type": "stream",
     "text": [
      "Write something a number or a word. lk34\n",
      "I was hoping for all letters or all digits. \n"
     ]
    }
   ],
   "source": [
    "# [ ] create and test str_analysis()\n",
    "\n",
    "def str_analysis():\n",
    "    u_str = input(\"Write something a number or a word. \")\n",
    "    if u_str.isnumeric():\n",
    "        if int(u_str) > 99:\n",
    "            print(\"That's a nice large number. \")\n",
    "        else:\n",
    "            print(\"What a small number.  How cute. \")\n",
    "    else:\n",
    "        if u_str.isalpha() == True:\n",
    "            print(\"Thanks for writing only letters. \")\n",
    "        elif u_str.isalpha() == False:\n",
    "            print(\"I was hoping for all letters or all digits. \")\n",
    "    \n",
    "    \n",
    "str_analysis()"
   ]
  },
  {
   "cell_type": "markdown",
   "metadata": {
    "collapsed": true
   },
   "source": [
    "# &nbsp;  \n",
    "### Program: ticket_check() - finds out if a seat is available  \n",
    "Call ticket_check() function with 2 arguments: *section* and *seats* requested and return True or False  \n",
    "- **section** is a string and expects: general, floor\n",
    "- **seats** is an integer and expects: 1 - 10  \n",
    "\n",
    "Check for valid section and seats\n",
    "- if section is *general* (or use startswith \"g\")  \n",
    "  - if seats is 1-10 return True \n",
    "- if section is *floor* (or use starts with \"f\")\n",
    "  - if seats is 1-4 return True  \n",
    "\n",
    "otherwise return False"
   ]
  },
  {
   "cell_type": "code",
   "execution_count": 33,
   "metadata": {},
   "outputs": [
    {
     "name": "stdout",
     "output_type": "stream",
     "text": [
      "What section would you like to sit in?  General or floor? floor\n",
      "Perfect.  Floor seating it is. \n",
      "Now, what seat would you like.  Please choos between 1 and 10. 3\n",
      "Thank you.  You've reserved seat 3 in section: floor\n"
     ]
    }
   ],
   "source": [
    "# [ ] create and call ticket_check()\n",
    "#Call ticket_check() function with 2 arguments: section and seats requested and return True or False\n",
    "\n",
    "def ticket_check():\n",
    "    section = input(\"What section would you like to sit in?  General or floor? \")\n",
    "    while True:\n",
    "        if section.lower().startswith(\"g\"):\n",
    "            print(\"Perfect.  General seating it is. \")\n",
    "            seat = input(\"Now, what seat would you like.  Please choos between 1 and 10. \")\n",
    "            if seat.isnumeric() == False:\n",
    "                print(\"Please choose a number. \")\n",
    "            elif int(seat) > 10:\n",
    "                print(\"Please choose a seat between 1 and 10. \")\n",
    "            elif int(seat) < 1:\n",
    "                print(\"Please choose a seat between 1 and 10. \")\n",
    "            else:\n",
    "                print(\"Thank you.  You've reserved seat\", seat, \"in section:\", section)\n",
    "                break\n",
    "        elif section.lower().startswith(\"f\"):\n",
    "            print(\"Perfect.  Floor seating it is. \")\n",
    "            seat = input(\"Now, what seat would you like.  Please choos between 1 and 10. \")\n",
    "            if seat.isnumeric() == False:\n",
    "                print(\"Please choose a number. \")\n",
    "            elif int(seat) > 10:\n",
    "                print(\"Please choose a seat between 1 and 10. \")\n",
    "            elif int(seat) < 1:\n",
    "                print(\"Please choose a seat between 1 and 10. \")\n",
    "            else:\n",
    "                print(\"Thank you.  You've reserved seat\", seat, \"in section:\", section)\n",
    "                break \n",
    "        else:\n",
    "            print(\"Really? Just pick a section. \")\n",
    "ticket_check()"
   ]
  },
  {
   "cell_type": "markdown",
   "metadata": {},
   "source": [
    "# Module 4 Practice 2\n",
    "## `while()` loops & increments\n",
    "<font size=\"5\" color=\"#00A0B2\"  face=\"verdana\"> <B>Student will be able to</B></font>\n",
    "- create forever loops using `while` and `break`\n",
    "- use incrementing variables in a while loop\n",
    "- control while loops using Boolean operators"
   ]
  },
  {
   "cell_type": "code",
   "execution_count": null,
   "metadata": {},
   "outputs": [],
   "source": [
    "# [ ] use a \"forever\" while loop to get user input of integers to add to sum, \n",
    "# until a non-digit is entered, then break the loop and print sum\n",
    "sum = 0\n",
    "\n"
   ]
  },
  {
   "cell_type": "code",
   "execution_count": null,
   "metadata": {},
   "outputs": [],
   "source": [
    "# [ ] use a while True loop (forever loop) to give 4 chances for input of a correct color in a rainbow\n",
    "# rainbow = \"red orange yellow green blue indigo violet\"\n",
    "\n"
   ]
  },
  {
   "cell_type": "code",
   "execution_count": null,
   "metadata": {},
   "outputs": [],
   "source": [
    "# [ ] Get input for a book title, keep looping while input is Not in title format (title is every word capitalized)\n",
    "title = \"\"\n",
    "\n"
   ]
  },
  {
   "cell_type": "code",
   "execution_count": null,
   "metadata": {},
   "outputs": [],
   "source": [
    "# [ ] create a math quiz question and ask for the solution until the input is correct\n",
    "\n"
   ]
  },
  {
   "cell_type": "markdown",
   "metadata": {},
   "source": [
    "### Fix the Error"
   ]
  },
  {
   "cell_type": "code",
   "execution_count": null,
   "metadata": {},
   "outputs": [],
   "source": [
    "# [ ] review the code, run, fix the error\n",
    "tickets = input(\"enter tickets remaining (0 to quit): \")\n",
    "\n",
    "while tickets > 0:\n",
    "        # if tickets are multiple of 3 then \"winner\"\n",
    "    if int(tickets/3) == tickets/3:\n",
    "        print(\"you win!\")\n",
    "    else:\n",
    "        print(\"sorry, not a winner.\")\n",
    "    tickets = int(input(\"enter tickets remaining (0 to quit): \"))\n",
    "\n",
    "print(\"Game ended\")\n",
    "    \n"
   ]
  },
  {
   "cell_type": "markdown",
   "metadata": {},
   "source": [
    "### create a function: quiz_item()  that asks a question and tests if input is correct  \n",
    "- quiz_item()has 2 parameter **strings**: question and solution  \n",
    "- shows question, gets answer input  \n",
    "- returns True if `answer == solution` or continues to ask question until correct answer is provided  \n",
    "- use a while loop\n",
    "\n",
    "create 2 or more quiz questions that call quiz_item()  \n",
    "**Hint**: provide multiple choice or T/F answers"
   ]
  },
  {
   "cell_type": "code",
   "execution_count": 1,
   "metadata": {},
   "outputs": [],
   "source": [
    "# Create quiz_item() and 2 or more quiz questions that call quiz_item()\n",
    "\n",
    "#quiz_item()has 2 parameter strings: question and solution\n"
   ]
  },
  {
   "cell_type": "markdown",
   "metadata": {
    "collapsed": true
   },
   "source": [
    "[Terms of use](http://go.microsoft.com/fwlink/?LinkID=206977) &nbsp; [Privacy & cookies](https://go.microsoft.com/fwlink/?LinkId=521839) &nbsp; © 2017 Microsoft"
   ]
  }
 ],
 "metadata": {
  "anaconda-cloud": {},
  "kernelspec": {
   "display_name": "Python 3",
   "language": "python",
   "name": "python3"
  },
  "language_info": {
   "codemirror_mode": {
    "name": "ipython",
    "version": 3
   },
   "file_extension": ".py",
   "mimetype": "text/x-python",
   "name": "python",
   "nbconvert_exporter": "python",
   "pygments_lexer": "ipython3",
   "version": "3.8.8"
  }
 },
 "nbformat": 4,
 "nbformat_minor": 1
}
