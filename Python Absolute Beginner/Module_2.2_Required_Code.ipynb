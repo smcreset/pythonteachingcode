{
 "cells": [
  {
   "cell_type": "markdown",
   "metadata": {
    "collapsed": true
   },
   "source": [
    "#  Module 2 Required Coding Activity  \n",
    "\n",
    "| Requirements |  \n",
    "|:-------------------------------|  \n",
    "| **NOTE:** This program requires a **function** be defined, created and called. The call will send values based on user input.  The function call must capture a `return` value that is used in print output.  The function will have parameters and `return` a string and should otherwise use code syntax covered in module 2.  |  \n",
    " \n",
    "## Program: fishstore()\n",
    "create and test fishstore()\n",
    "- **fishstore() takes 2 string arguments: fish & price**\n",
    "- **fishstore returns a string in sentence form**  \n",
    "- **gather input for fish_entry and price_entry to use in calling fishstore()**\n",
    "- **print the return value of fishstore()**\n",
    ">example of output: **`Fish Type: Guppy costs $1`**"
   ]
  },
  {
   "cell_type": "code",
   "execution_count": 1,
   "metadata": {},
   "outputs": [
    {
     "name": "stdout",
     "output_type": "stream",
     "text": [
      "What type of fish are you selling today? Salmon\n",
      "How much are you selling it for? $12/lb\n",
      "Fish type: Salmon Cost: $12/lb\n"
     ]
    }
   ],
   "source": [
    "# [ ] create, call and test fishstore() function \n",
    "\n",
    "def fishstore(fish, price):\n",
    "    return \"Fish type: \" + fish_entry + \" Cost: $\" + price_entry\n",
    "    \n",
    "fish_entry = input(\"What type of fish are you selling today? \")\n",
    "price_entry = input(\"How much are you selling it for? $\")\n",
    "\n",
    "print(fishstore(fish_entry, price_entry))"
   ]
  },
  {
   "cell_type": "markdown",
   "metadata": {},
   "source": [
    "When finished and tested, copy your code to the clipboard on your computer. Then, create a python file (.py) in Visual Studio Code by selecting New File and saving the file with a .py extension. Then, paste in your code and test it. Finally, save the file and upload it to D2L to submit. Be sure to test that it works. Use this same process for all Required Code Activities."
   ]
  }
 ],
 "metadata": {
  "kernelspec": {
   "display_name": "Python 3",
   "language": "python",
   "name": "python3"
  },
  "language_info": {
   "codemirror_mode": {
    "name": "ipython",
    "version": 3
   },
   "file_extension": ".py",
   "mimetype": "text/x-python",
   "name": "python",
   "nbconvert_exporter": "python",
   "pygments_lexer": "ipython3",
   "version": "3.8.8"
  }
 },
 "nbformat": 4,
 "nbformat_minor": 1
}
